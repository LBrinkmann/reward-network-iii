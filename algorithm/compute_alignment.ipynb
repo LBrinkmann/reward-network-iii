{
 "cells": [
  {
   "cell_type": "markdown",
   "metadata": {},
   "source": [
    "# Compute Human-Machine Alignment\n",
    "\n",
    "This notebook computes the alignment between moves made by humans and the machine. To do so, we load the full trajectory of human moves, and predict for each move the best move according to the machine. The machine does so taking into account the trajectory of human play. We encode with one, if human and machine move matches."
   ]
  },
  {
   "cell_type": "code",
   "execution_count": null,
   "metadata": {},
   "outputs": [],
   "source": [
    "%load_ext autoreload\n",
    "%autoreload 2"
   ]
  },
  {
   "cell_type": "code",
   "execution_count": null,
   "metadata": {},
   "outputs": [],
   "source": [
    "# add dqn sub folder to python path\n",
    "import sys\n",
    "sys.path.append('dqn')"
   ]
  },
  {
   "cell_type": "code",
   "execution_count": null,
   "metadata": {},
   "outputs": [],
   "source": [
    "import pandas as pd\n",
    "import os\n",
    "\n",
    "import yaml\n",
    "import json\n",
    "import os\n",
    "\n",
    "import torch as th\n",
    "from dqn.environment_vect import Reward_Network\n",
    "from dqn.dqn_agent import Agent\n",
    "from dqn.config_type import Config"
   ]
  },
  {
   "cell_type": "code",
   "execution_count": null,
   "metadata": {},
   "outputs": [],
   "source": [
    "experiment_type = 'reward-network-iii-exp-v2'\n",
    "\n",
    "moves_df = pd.read_csv(os.path.join('../data/exp_processed/moves.csv'))\n",
    "\n",
    "networks_file = '../data/networks_solutions_models/solution_exp__valid_networks.json'\n",
    "\n",
    "# Load the networks\n",
    "with open(networks_file) as f:\n",
    "    networks_exp = json.load(f)\n",
    "\n",
    "config_file = '../algorithm/params/seed_0.yml'\n",
    "with open(config_file) as f:\n",
    "    config = yaml.load(f, Loader=yaml.FullLoader)\n",
    "config = Config(**config)\n"
   ]
  },
  {
   "cell_type": "code",
   "execution_count": null,
   "metadata": {},
   "outputs": [],
   "source": [
    "moves_df['session_trial_id'] = moves_df['session_id'].astype(str) + '_' + moves_df['trial_id'].astype(str)\n",
    "\n",
    "session_trial_id = moves_df['session_trial_id'].unique()\n",
    "session_trial_idx = {session_trial_id[i]: i for i in range(len(session_trial_id))}"
   ]
  },
  {
   "cell_type": "code",
   "execution_count": null,
   "metadata": {},
   "outputs": [],
   "source": [
    "human_moves = th.full((len(session_trial_id), 10), -1, dtype=th.int64)\n",
    "network_ids = []\n",
    "\n",
    "for _, row in moves_df.iterrows():\n",
    "    idx = session_trial_idx[row['session_trial_id']]\n",
    "    human_moves[idx, row['move_idx']] = row['target_num']\n",
    "    if row['move_idx'] == 0:\n",
    "        network_ids.append(row['network_id'])"
   ]
  },
  {
   "cell_type": "code",
   "execution_count": null,
   "metadata": {},
   "outputs": [],
   "source": [
    "networks_keyed = {network['network_id']: network for network in networks_exp}\n",
    "networks_reorganized = [networks_keyed[network_id] for network_id in network_ids]"
   ]
  },
  {
   "cell_type": "code",
   "execution_count": null,
   "metadata": {},
   "outputs": [],
   "source": [
    "DEVICE = th.device(\"cuda\" if th.cuda.is_available() else \"cpu\")\n",
    "\n",
    "env = Reward_Network(networks_reorganized, network_batch=None, config=config, device=DEVICE)\n",
    "\n",
    "AI_agent = Agent(\n",
    "    observation_shape=env.observation_shape,\n",
    "    config=config,\n",
    "    action_dim=env.action_space_idx.shape,\n",
    "    save_dir=None,\n",
    "    device=DEVICE,\n",
    ")\n",
    "path = os.path.join('..',config.save_dir, f\"{config.name}_{config.seed}.pt\")\n",
    "AI_agent.load_model(path)\n",
    "\n",
    "# solve all networks at once in one go (\"1 episode\")\n",
    "ai_moves = AI_agent.solve_loop(\n",
    "    episode=0,\n",
    "    n_rounds=config.n_rounds,\n",
    "    train_mode=False,\n",
    "    exp_mode=True,\n",
    "    env=env,\n",
    "    logger=None,\n",
    "    exec_actions=human_moves,\n",
    ")"
   ]
  },
  {
   "cell_type": "code",
   "execution_count": null,
   "metadata": {},
   "outputs": [],
   "source": [
    "moves_df['ai_target_num'] = None\n",
    "\n",
    "for idx, row in moves_df.iterrows():\n",
    "    session_idx = session_trial_idx[row['session_trial_id']]\n",
    "    move_idx = row['move_idx']\n",
    "    moves_df.at[idx, 'ai_target_num'] = ai_moves[session_idx, move_idx]"
   ]
  },
  {
   "cell_type": "code",
   "execution_count": null,
   "metadata": {},
   "outputs": [],
   "source": [
    "moves_df['human_machine_match'] = moves_df['ai_target_num'] == moves_df['target_num']"
   ]
  },
  {
   "cell_type": "code",
   "execution_count": null,
   "metadata": {},
   "outputs": [],
   "source": [
    "moves_df.to_csv(os.path.join('../data/exp_processed/moves_w_alignment.csv'), index=False)"
   ]
  },
  {
   "cell_type": "code",
   "execution_count": null,
   "metadata": {},
   "outputs": [],
   "source": [
    "import seaborn as sns\n",
    "\n",
    "df = moves_df[moves_df['trial_type'] == 'demonstration']\n",
    "\n",
    "sns.lineplot(data=moves_df, x='generation', hue='condition', style='ai_player', y='human_machine_match', markers=True)\n"
   ]
  }
 ],
 "metadata": {
  "kernelspec": {
   "display_name": ".venv",
   "language": "python",
   "name": "python3"
  },
  "language_info": {
   "codemirror_mode": {
    "name": "ipython",
    "version": 3
   },
   "file_extension": ".py",
   "mimetype": "text/x-python",
   "name": "python",
   "nbconvert_exporter": "python",
   "pygments_lexer": "ipython3",
   "version": "3.10.12"
  }
 },
 "nbformat": 4,
 "nbformat_minor": 2
}
