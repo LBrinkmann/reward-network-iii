{
 "cells": [
  {
   "cell_type": "code",
   "execution_count": 3,
   "metadata": {},
   "outputs": [],
   "source": [
    "import os\n",
    "import pandas as pd\n",
    "\n",
    "strategy_preliminary = pd.read_csv(os.path.join('../data/exp_strategies_coded/strategy_preliminary.csv'), delimiter=';')\n",
    "ratings_full = pd.read_csv(os.path.join('../data/exp_strategies_coded/ratings_full.csv'))"
   ]
  },
  {
   "cell_type": "code",
   "execution_count": 14,
   "metadata": {},
   "outputs": [
    {
     "data": {
      "text/html": [
       "<div>\n",
       "<style scoped>\n",
       "    .dataframe tbody tr th:only-of-type {\n",
       "        vertical-align: middle;\n",
       "    }\n",
       "\n",
       "    .dataframe tbody tr th {\n",
       "        vertical-align: top;\n",
       "    }\n",
       "\n",
       "    .dataframe thead th {\n",
       "        text-align: right;\n",
       "    }\n",
       "</style>\n",
       "<table border=\"1\" class=\"dataframe\">\n",
       "  <thead>\n",
       "    <tr style=\"text-align: right;\">\n",
       "      <th></th>\n",
       "      <th>Unnamed: 0</th>\n",
       "      <th>coding_id</th>\n",
       "      <th>text</th>\n",
       "      <th>strategy_rating</th>\n",
       "      <th>ratingSK</th>\n",
       "      <th>ratingJS</th>\n",
       "    </tr>\n",
       "  </thead>\n",
       "  <tbody>\n",
       "    <tr>\n",
       "      <th>0</th>\n",
       "      <td>1</td>\n",
       "      <td>1</td>\n",
       "      <td>Finding the best to points to go back and fort...</td>\n",
       "      <td>0</td>\n",
       "      <td>0</td>\n",
       "      <td>0</td>\n",
       "    </tr>\n",
       "    <tr>\n",
       "      <th>1</th>\n",
       "      <td>2</td>\n",
       "      <td>2</td>\n",
       "      <td>take three -50 point choices first to unlock t...</td>\n",
       "      <td>1</td>\n",
       "      <td>1</td>\n",
       "      <td>1</td>\n",
       "    </tr>\n",
       "    <tr>\n",
       "      <th>2</th>\n",
       "      <td>3</td>\n",
       "      <td>3</td>\n",
       "      <td>Always look for a green arrow in the right dir...</td>\n",
       "      <td>0</td>\n",
       "      <td>0</td>\n",
       "      <td>0</td>\n",
       "    </tr>\n",
       "    <tr>\n",
       "      <th>3</th>\n",
       "      <td>4</td>\n",
       "      <td>4</td>\n",
       "      <td>It seems like you could try to stay on the sid...</td>\n",
       "      <td>0</td>\n",
       "      <td>0</td>\n",
       "      <td>0</td>\n",
       "    </tr>\n",
       "    <tr>\n",
       "      <th>4</th>\n",
       "      <td>5</td>\n",
       "      <td>5</td>\n",
       "      <td>3 losses and then max gains?</td>\n",
       "      <td>1</td>\n",
       "      <td>1</td>\n",
       "      <td>0</td>\n",
       "    </tr>\n",
       "    <tr>\n",
       "      <th>...</th>\n",
       "      <td>...</td>\n",
       "      <td>...</td>\n",
       "      <td>...</td>\n",
       "      <td>...</td>\n",
       "      <td>...</td>\n",
       "      <td>...</td>\n",
       "    </tr>\n",
       "    <tr>\n",
       "      <th>2305</th>\n",
       "      <td>2306</td>\n",
       "      <td>2306</td>\n",
       "      <td>To maximize points in the network task, priori...</td>\n",
       "      <td>0</td>\n",
       "      <td>0</td>\n",
       "      <td>0</td>\n",
       "    </tr>\n",
       "    <tr>\n",
       "      <th>2306</th>\n",
       "      <td>2307</td>\n",
       "      <td>2307</td>\n",
       "      <td>Following the green path as often as i can.</td>\n",
       "      <td>0</td>\n",
       "      <td>0</td>\n",
       "      <td>0</td>\n",
       "    </tr>\n",
       "    <tr>\n",
       "      <th>2307</th>\n",
       "      <td>2308</td>\n",
       "      <td>2308</td>\n",
       "      <td>If I was going to get guaranteed points by hop...</td>\n",
       "      <td>0</td>\n",
       "      <td>0</td>\n",
       "      <td>0</td>\n",
       "    </tr>\n",
       "    <tr>\n",
       "      <th>2308</th>\n",
       "      <td>2309</td>\n",
       "      <td>2309</td>\n",
       "      <td>I realised that I didn't think I could d any b...</td>\n",
       "      <td>0</td>\n",
       "      <td>0</td>\n",
       "      <td>0</td>\n",
       "    </tr>\n",
       "    <tr>\n",
       "      <th>2309</th>\n",
       "      <td>2310</td>\n",
       "      <td>2310</td>\n",
       "      <td>I am trying to move as quickly as possible thr...</td>\n",
       "      <td>0</td>\n",
       "      <td>0</td>\n",
       "      <td>0</td>\n",
       "    </tr>\n",
       "  </tbody>\n",
       "</table>\n",
       "<p>2310 rows × 6 columns</p>\n",
       "</div>"
      ],
      "text/plain": [
       "      Unnamed: 0  coding_id  \\\n",
       "0              1          1   \n",
       "1              2          2   \n",
       "2              3          3   \n",
       "3              4          4   \n",
       "4              5          5   \n",
       "...          ...        ...   \n",
       "2305        2306       2306   \n",
       "2306        2307       2307   \n",
       "2307        2308       2308   \n",
       "2308        2309       2309   \n",
       "2309        2310       2310   \n",
       "\n",
       "                                                   text  strategy_rating  \\\n",
       "0     Finding the best to points to go back and fort...                0   \n",
       "1     take three -50 point choices first to unlock t...                1   \n",
       "2     Always look for a green arrow in the right dir...                0   \n",
       "3     It seems like you could try to stay on the sid...                0   \n",
       "4                          3 losses and then max gains?                1   \n",
       "...                                                 ...              ...   \n",
       "2305  To maximize points in the network task, priori...                0   \n",
       "2306        Following the green path as often as i can.                0   \n",
       "2307  If I was going to get guaranteed points by hop...                0   \n",
       "2308  I realised that I didn't think I could d any b...                0   \n",
       "2309  I am trying to move as quickly as possible thr...                0   \n",
       "\n",
       "      ratingSK  ratingJS  \n",
       "0            0         0  \n",
       "1            1         1  \n",
       "2            0         0  \n",
       "3            0         0  \n",
       "4            1         0  \n",
       "...        ...       ...  \n",
       "2305         0         0  \n",
       "2306         0         0  \n",
       "2307         0         0  \n",
       "2308         0         0  \n",
       "2309         0         0  \n",
       "\n",
       "[2310 rows x 6 columns]"
      ]
     },
     "execution_count": 14,
     "metadata": {},
     "output_type": "execute_result"
    }
   ],
   "source": [
    "ratings_full"
   ]
  },
  {
   "cell_type": "code",
   "execution_count": 7,
   "metadata": {},
   "outputs": [
    {
     "data": {
      "text/plain": [
       "Index(['Unnamed: 0', 'session_id', 'session_name', 'replication_idx',\n",
       "       'condition', 'generation', 'within_generation_idx', 'started_at',\n",
       "       'time_spend', 'expired', 'replaced', 'ai_player', 'simulated_subject',\n",
       "       'advisor', 'player_score', 'X', 'trial_id', 'written_strategy_idx',\n",
       "       'text', 'coding_id', 'loss_strategy'],\n",
       "      dtype='object')"
      ]
     },
     "execution_count": 7,
     "metadata": {},
     "output_type": "execute_result"
    }
   ],
   "source": [
    "strategy_preliminary.columns"
   ]
  },
  {
   "cell_type": "code",
   "execution_count": 19,
   "metadata": {},
   "outputs": [],
   "source": [
    "strategy_preliminary_1 = strategy_preliminary[['session_id', 'trial_id', 'coding_id']]\n",
    "\n",
    "strategy_preliminary_1.to_csv(os.path.join('../data/exp_strategies_coded/coding_id_map.csv'))"
   ]
  },
  {
   "cell_type": "code",
   "execution_count": 16,
   "metadata": {},
   "outputs": [
    {
     "data": {
      "text/plain": [
       "trial_id\n",
       "22    960\n",
       "12    195\n",
       "Name: count, dtype: int64"
      ]
     },
     "execution_count": 16,
     "metadata": {},
     "output_type": "execute_result"
    }
   ],
   "source": [
    "strategy_preliminary['trial_id'].value_counts()"
   ]
  },
  {
   "cell_type": "code",
   "execution_count": 17,
   "metadata": {},
   "outputs": [
    {
     "data": {
      "text/plain": [
       "195"
      ]
     },
     "execution_count": 17,
     "metadata": {},
     "output_type": "execute_result"
    }
   ],
   "source": [
    "15 * 5 + 15 * 8"
   ]
  }
 ],
 "metadata": {
  "kernelspec": {
   "display_name": ".venv",
   "language": "python",
   "name": "python3"
  },
  "language_info": {
   "codemirror_mode": {
    "name": "ipython",
    "version": 3
   },
   "file_extension": ".py",
   "mimetype": "text/x-python",
   "name": "python",
   "nbconvert_exporter": "python",
   "pygments_lexer": "ipython3",
   "version": "3.10.12"
  }
 },
 "nbformat": 4,
 "nbformat_minor": 2
}
