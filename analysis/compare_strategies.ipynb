{
 "cells": [
  {
   "cell_type": "code",
   "execution_count": 22,
   "metadata": {},
   "outputs": [],
   "source": [
    "\n",
    "import json\n",
    "import pandas as pd\n",
    "from pathlib import Path\n",
    "from common.utils.utils import estimate_solution_score\n",
    "from common.models.network import Network"
   ]
  },
  {
   "cell_type": "code",
   "execution_count": 10,
   "metadata": {},
   "outputs": [],
   "source": [
    "networks_path = Path(\"../data/23_11_30\")\n",
    "network_data = json.load(open(networks_path / \"networks.json\"))\n",
    "\n",
    "solutions = {\n",
    "    \"myopic\": json.load(open(networks_path / \"solution__myopic.json\")),\n",
    "    \"m1\": json.load(open(networks_path / \"solutions\" / \"0.json\")),\n",
    "    \"random\": json.load(open(networks_path / \"solution__random.json\")),\n",
    "    \"take_loss\": json.load(open(networks_path / \"solution__take_loss.json\")),\n",
    "}\n",
    "\n",
    "def key_solutions(solutions):\n",
    "    return {s[\"network_id\"]: s for s in solutions}\n",
    "\n",
    "solutions_by_network_id = {k: key_solutions(v) for k, v in solutions.items()}"
   ]
  },
  {
   "cell_type": "code",
   "execution_count": 23,
   "metadata": {},
   "outputs": [],
   "source": [
    "scores = []\n",
    "for network in network_data:\n",
    "    n = Network(**network)\n",
    "    n_id = n.network_id\n",
    "    for s_type in solutions.keys():\n",
    "        solution = solutions_by_network_id[s_type][n_id]\n",
    "        score = estimate_solution_score(n, moves=solution['moves'], n_steps=10)\n",
    "        scores.append({\n",
    "            \"network_id\": n_id,\n",
    "            \"type\": s_type,\n",
    "            \"score\": score\n",
    "        })\n",
    "\n",
    "scores_df = pd.DataFrame(scores)"
   ]
  },
  {
   "cell_type": "code",
   "execution_count": 29,
   "metadata": {},
   "outputs": [],
   "source": [
    "scores_df = scores_df.pivot_table(index=\"network_id\", columns=\"type\", values=\"score\")"
   ]
  },
  {
   "cell_type": "code",
   "execution_count": 31,
   "metadata": {},
   "outputs": [],
   "source": [
    "scores_df['m1-myopic'] = scores_df['m1'] - scores_df['myopic']\n",
    "scores_df['m1-random'] = scores_df['m1'] - scores_df['random']\n",
    "scores_df['m1-take_loss'] = scores_df['m1'] - scores_df['take_loss']"
   ]
  },
  {
   "cell_type": "code",
   "execution_count": 35,
   "metadata": {},
   "outputs": [
    {
     "data": {
      "text/plain": [
       "0.1"
      ]
     },
     "execution_count": 35,
     "metadata": {},
     "output_type": "execute_result"
    }
   ],
   "source": [
    "(scores_df['m1-myopic'] < 0).mean()"
   ]
  },
  {
   "cell_type": "code",
   "execution_count": 36,
   "metadata": {},
   "outputs": [
    {
     "data": {
      "text/plain": [
       "0.07"
      ]
     },
     "execution_count": 36,
     "metadata": {},
     "output_type": "execute_result"
    }
   ],
   "source": [
    "(scores_df['m1-take_loss'] < 0).mean()"
   ]
  },
  {
   "cell_type": "code",
   "execution_count": 37,
   "metadata": {},
   "outputs": [
    {
     "data": {
      "text/plain": [
       "type\n",
       "m1              2450.0\n",
       "myopic          1575.0\n",
       "random           790.0\n",
       "take_loss       2409.5\n",
       "m1-myopic        875.0\n",
       "m1-random       1660.0\n",
       "m1-take_loss      40.5\n",
       "dtype: float64"
      ]
     },
     "execution_count": 37,
     "metadata": {},
     "output_type": "execute_result"
    }
   ],
   "source": [
    "scores_df.mean()"
   ]
  }
 ],
 "metadata": {
  "kernelspec": {
   "display_name": ".venv",
   "language": "python",
   "name": "python3"
  },
  "language_info": {
   "codemirror_mode": {
    "name": "ipython",
    "version": 3
   },
   "file_extension": ".py",
   "mimetype": "text/x-python",
   "name": "python",
   "nbconvert_exporter": "python",
   "pygments_lexer": "ipython3",
   "version": "3.10.9"
  }
 },
 "nbformat": 4,
 "nbformat_minor": 2
}
