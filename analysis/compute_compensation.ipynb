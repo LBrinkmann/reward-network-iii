{
 "cells": [
  {
   "cell_type": "code",
   "execution_count": 101,
   "metadata": {},
   "outputs": [],
   "source": [
    "import os\n",
    "import pandas as pd\n",
    "from datetime import datetime\n",
    "import requests\n",
    "from dotenv import load_dotenv\n"
   ]
  },
  {
   "cell_type": "code",
   "execution_count": 102,
   "metadata": {},
   "outputs": [],
   "source": [
    "load_dotenv()\n",
    "\n",
    "BACKEND_USER = os.environ['BACKEND_USER']\n",
    "BACKEND_PASSWORD = os.environ['BACKEND_PASSWORD']\n",
    "BACKEND_URL = os.environ['BACKEND_URL']\n",
    "# BACKEND_URL = 'http://localhost:5050'\n",
    "# BACKEND_USER = 'admin'\n",
    "# BACKEND_PASSWORD = 'admin'\n",
    "\n",
    "experiment_type = 'reward-network-iii-6A-v2'\n",
    "experiment_type = 'reward-network-iii-6B-v1'\n",
    "experiment_type = 'reward-network-iii-7B-v1'\n",
    "experiment_type = 'reward-network-iii-8B-v1'\n",
    "# experiment_type = 'reward-network-iii-8A-v1'\n",
    "experiment_type = 'reward-network-iii-pilot-9B-v3'\n",
    "experiment_type = 'reward-network-iii-pilot-9B2-v1'\n",
    "experiment_type = 'reward-network-iii-pilot-9D-v4'\n",
    "\n",
    "finished = True"
   ]
  },
  {
   "cell_type": "code",
   "execution_count": 103,
   "metadata": {},
   "outputs": [],
   "source": [
    "from utils.process import process_moves\n",
    "\n",
    "\n",
    "url = f'{BACKEND_URL}/results'\n",
    "headers = {'Accept': 'application/json'}\n",
    "auth = (BACKEND_USER, BACKEND_PASSWORD)\n",
    "current_datatime = datetime.now().strftime('%Y-%m-%d_%H-%M-%S')\n",
    "\n",
    "# #---subjects----\n",
    "subjects = requests.get(f'{url}/subjects', headers=headers, auth=auth)\n",
    "subjects_df = pd.DataFrame(subjects.json())\n",
    "s_to_p = subjects_df.set_index('session_id')['prolific_id'].to_dict()\n",
    "\n",
    "#---sessions----\n",
    "sessions = requests.get(f'{url}/sessions?experiment_type={experiment_type}&finished={finished}', headers=headers, auth=auth)\n",
    "sessions_json = sessions.json()\n",
    "\n",
    "\n",
    "sessions_df = pd.DataFrame(sessions_json)\n"
   ]
  },
  {
   "cell_type": "code",
   "execution_count": 104,
   "metadata": {},
   "outputs": [
    {
     "data": {
      "text/plain": [
       "array([0, 1])"
      ]
     },
     "execution_count": 104,
     "metadata": {},
     "output_type": "execute_result"
    }
   ],
   "source": [
    "sessions_df['generation'].unique()"
   ]
  },
  {
   "cell_type": "code",
   "execution_count": 105,
   "metadata": {},
   "outputs": [],
   "source": [
    "# turn list within column to separate rows\n",
    "df = sessions_df.copy()\n",
    "df = df[['_id', 'generation', 'condition', 'average_score','child_ids']].explode('child_ids')\n",
    "df = df.merge(df, how='left', left_on='child_ids', right_on='_id', suffixes=('', '_child'))\n",
    "\n",
    "columns = ['_id', 'average_score', 'average_score_child', 'generation', 'condition', ]\n",
    "df = df[columns]\n",
    "\n",
    "index = ['_id', 'generation', 'condition',]\n",
    "\n",
    "df['condition'] = df['condition'].fillna('shared')\n",
    "\n",
    "df = df.groupby(index).mean().fillna(0).reset_index()\n",
    "\n",
    "df['total_score'] = df['average_score'] + df['average_score_child']\n",
    "\n",
    "df['total_score_rank_score'] = df.groupby(['generation', 'condition'])['total_score'].transform(lambda x: x.rank(pct=True) * 2 )\n",
    "\n",
    "df['bonus_in_pound'] = df['total_score_rank_score'] * 0.7\n"
   ]
  },
  {
   "cell_type": "code",
   "execution_count": 106,
   "metadata": {},
   "outputs": [
    {
     "data": {
      "text/plain": [
       "<Axes: xlabel='bonus', ylabel='Count'>"
      ]
     },
     "execution_count": 106,
     "metadata": {},
     "output_type": "execute_result"
    },
    {
     "data": {
      "image/png": "[encoded data removed]",
      "text/plain": [
       "<Figure size 640x480 with 1 Axes>"
      ]
     },
     "metadata": {},
     "output_type": "display_data"
    }
   ],
   "source": [
    "import seaborn as sns\n",
    "\n",
    "df['norm_group'] = df['condition'] + \" | \" + df['generation'].astype(str)\n",
    "\n",
    "sns.histplot(data=df, x='bonus', hue='norm_group', label='total_score_norm')"
   ]
  },
  {
   "cell_type": "code",
   "execution_count": 107,
   "metadata": {},
   "outputs": [],
   "source": [
    "p_id_bonus = df.merge(subjects_df, left_on='_id', right_on='session_id')[['prolific_id', 'bonus']]\n",
    "p_id_bonus.to_csv(f'../temp/bonus_{experiment_type}.csv', index=False)"
   ]
  }
 ],
 "metadata": {
  "kernelspec": {
   "display_name": ".venv",
   "language": "python",
   "name": "python3"
  },
  "language_info": {
   "codemirror_mode": {
    "name": "ipython",
    "version": 3
   },
   "file_extension": ".py",
   "mimetype": "text/x-python",
   "name": "python",
   "nbconvert_exporter": "python",
   "pygments_lexer": "ipython3",
   "version": "3.10.9"
  }
 },
 "nbformat": 4,
 "nbformat_minor": 2
}
