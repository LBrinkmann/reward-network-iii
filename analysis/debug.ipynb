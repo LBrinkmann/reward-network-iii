{
 "cells": [
  {
   "cell_type": "code",
   "execution_count": 294,
   "metadata": {},
   "outputs": [],
   "source": [
    "import os\n",
    "import pandas as pd\n",
    "import matplotlib.pyplot as plt\n",
    "import matplotlib.colors as mcolors\n",
    "import numpy as np\n",
    "import seaborn as sns\n",
    "from datetime import datetime\n",
    "import requests\n",
    "\n",
    "\n",
    "from dotenv import load_dotenv"
   ]
  },
  {
   "cell_type": "code",
   "execution_count": 295,
   "metadata": {},
   "outputs": [],
   "source": [
    "load_dotenv()\n",
    "\n",
    "BACKEND_USER = os.environ['BACKEND_USER']\n",
    "BACKEND_PASSWORD = os.environ['BACKEND_PASSWORD']\n",
    "BACKEND_URL = os.environ['BACKEND_URL']\n",
    "# BACKEND_URL = 'http://localhost:5050'\n",
    "# BACKEND_USER = 'admin'\n",
    "# BACKEND_PASSWORD = 'admin'\n",
    "\n",
    "experiment_type = 'reward-network-iii-exp-v2'"
   ]
  },
  {
   "cell_type": "code",
   "execution_count": 313,
   "metadata": {},
   "outputs": [],
   "source": [
    "from utils.process import process_moves\n",
    "\n",
    "\n",
    "url = f'{BACKEND_URL}/results'\n",
    "headers = {'Accept': 'application/json'}\n",
    "auth = (BACKEND_USER, BACKEND_PASSWORD)\n",
    "current_datatime = datetime.now().strftime('%Y-%m-%d_%H-%M-%S')\n",
    "\n",
    "#---sessions----\n",
    "sessions = requests.get(f'{url}/sessions?experiment_type={experiment_type}', headers=headers, auth=auth)\n",
    "sessions_json = sessions.json()\n",
    "\n",
    "\n",
    "# #---subjects----\n",
    "subjects = requests.get(f'{url}/subjects', headers=headers, auth=auth)\n",
    "subjects_df = pd.DataFrame(subjects.json())\n",
    "s_to_p = subjects_df.set_index('session_id')['prolific_id'].to_dict()"
   ]
  },
  {
   "cell_type": "code",
   "execution_count": 297,
   "metadata": {},
   "outputs": [
    {
     "data": {
      "text/plain": [
       "1210"
      ]
     },
     "execution_count": 297,
     "metadata": {},
     "output_type": "execute_result"
    }
   ],
   "source": [
    "len(sessions_json)"
   ]
  },
  {
   "cell_type": "code",
   "execution_count": 298,
   "metadata": {},
   "outputs": [],
   "source": [
    "session_df = pd.DataFrame(sessions_json)"
   ]
  },
  {
   "cell_type": "code",
   "execution_count": 299,
   "metadata": {},
   "outputs": [],
   "source": [
    "written_strategies = []\n",
    "p_moves = []\n",
    "player = []\n",
    "for session in sessions_json:\n",
    "    advisor = None\n",
    "    for trial in session['trials']:\n",
    "        finished_at_dt = datetime.fromisoformat(trial['finished_at']) if trial['finished_at'] is not None else None\n",
    "        started_at_dt = datetime.fromisoformat(trial['started_at']) if trial['started_at'] is not None else None\n",
    "        # compute trial duration\n",
    "        if trial['finished_at'] is None or trial['started_at'] is None:\n",
    "            duration = None\n",
    "        else:\n",
    "            duration = (finished_at_dt - started_at_dt).total_seconds()\n",
    "        trials_info = {\n",
    "            'session_id': session['_id'],\n",
    "            'trial_id': trial['id'],\n",
    "            'trial_type': trial['trial_type'],\n",
    "            'trial_started_at': finished_at_dt,\n",
    "            'trial_finished_at': started_at_dt,\n",
    "            'trial_duration': duration\n",
    "        }\n",
    "        if trial['solution'] is not None:\n",
    "            moves = process_moves(trial['network'], trial['solution']['moves'], trial['solution']['correctRepeats'])\n",
    "            if len(moves) > 0:\n",
    "                moves = [{**m, **trials_info, 'solution_total_score': trial['solution']['score'], 'n_moves': len(trial['solution']['moves'])} for m in moves]\n",
    "                p_moves.extend(moves)\n",
    "            else:\n",
    "                p_moves.append(trials_info)\n",
    "        else:\n",
    "            p_moves.append(trials_info)\n",
    "        if trial['written_strategy'] is not None and session['ai_player'] is False:\n",
    "            written_strategies.append({\n",
    "                'session_id': session['_id'],\n",
    "                'trial_id': trial['id'],\n",
    "                'text': trial['written_strategy']['strategy'],\n",
    "            })\n",
    "        if trial['advisor'] is not None:\n",
    "            if advisor is None:\n",
    "                advisor = trial['advisor']['advisor_id']\n",
    "            else:\n",
    "                assert advisor == trial['advisor']['advisor_id'], f'advisor changed during session {advisor} {trial[\"advisor\"][\"advisor_id\"]}'\n",
    "    ai_str = 'AI' if session['ai_player'] else 'Human'\n",
    "    player.append({\n",
    "        'session_id': session['_id'],\n",
    "        'session_name': f\"Rep {session['experiment_num']} - Gen {session['generation']} - {session['condition']} - {session['session_num_in_generation']} - {ai_str}\",\n",
    "        'replication_idx': session['experiment_num'],\n",
    "        'condition': session['condition'],\n",
    "        'generation': session['generation'],\n",
    "        'within_generation_idx': session['session_num_in_generation'],\n",
    "        'started_at': session['started_at'],\n",
    "        'time_spend': session['time_spent'],\n",
    "        'expired': session['expired'],\n",
    "        'replaced': session['replaced'],\n",
    "        'completed': session['completed'],\n",
    "        'finished': session['finished'],\n",
    "        'ai_player': session['ai_player'],\n",
    "        'simulated_subject': session['simulated_subject'],\n",
    "        'advisor': advisor,\n",
    "        'player_score': session['average_score'],\n",
    "    })\n",
    "\n",
    "moves_df = pd.DataFrame(p_moves)\n",
    "strategy_df = pd.DataFrame(written_strategies)\n",
    "player_df = pd.DataFrame(player)\n",
    "# trial_idx = {s: i for i, s in enumerate(moves_df['trial_id'].unique())}\n",
    "wr_trial_idx = {s: i for i, s in enumerate(strategy_df['trial_id'].sort_values().unique())}\n",
    "\n",
    "# moves_df['trial_idx'] = moves_df['trial_id'].apply(lambda x: trial_idx[x])\n",
    "\n",
    "moves_df = player_df.merge(moves_df, on='session_id', how='left')\n",
    "\n",
    "strategy_df['written_strategy_idx'] = strategy_df['trial_id'].apply(lambda x: wr_trial_idx[x])\n",
    "\n",
    "strategy_df = strategy_df.sort_values(by=['session_id', 'written_strategy_idx'])"
   ]
  },
  {
   "cell_type": "code",
   "execution_count": 300,
   "metadata": {},
   "outputs": [],
   "source": [
    "rel_columns = [\n",
    "    'ai_player', 'trial_started_at', 'trial_finished_at','trial_moves', 'expired', 'replaced', 'completed', 'finished', 'started_at', 'trial_type','n_moves', 'generation', 'trial_duration'\n",
    "]"
   ]
  },
  {
   "cell_type": "code",
   "execution_count": 301,
   "metadata": {},
   "outputs": [],
   "source": [
    "moves_df['trial_moves'] = moves_df.groupby(['session_id', 'trial_id'])['move_idx'].transform('count')\n"
   ]
  },
  {
   "cell_type": "code",
   "execution_count": 302,
   "metadata": {},
   "outputs": [],
   "source": [
    "trial_df = moves_df.groupby(['session_id', 'trial_id'])[rel_columns].first().reset_index()\n",
    "\n",
    "\n",
    "trial_df['trial_completed'] = trial_df['trial_moves'] == 10\n",
    "\n",
    "trial_df['demonstration_trial_completed'] = trial_df['trial_completed'] & (trial_df['trial_type'] == 'demonstration')\n",
    "\n",
    "trial_df['demonstration_trial_empty'] = (trial_df['trial_moves'] == 1) & (trial_df['trial_type'] == 'demonstration')\n",
    "\n",
    "trial_df['sum_demonstration_completed'] = trial_df.groupby('session_id')['demonstration_trial_completed'].transform('sum')\n",
    "\n",
    "trial_df['all_demonstration_completed'] = trial_df['sum_demonstration_completed'] == 4\n",
    "\n",
    "\n",
    "trial_df['started'] = trial_df['started_at'].isna() == False\n",
    "\n",
    "trial_df['trial_started'] = trial_df['trial_started_at'].isna() == False\n",
    "trial_df['trial_finished'] = trial_df['trial_finished_at'].isna() == False\n",
    "\n",
    "\n",
    "# remove AI\n",
    "trial_df = trial_df[trial_df['ai_player'] == False]\n",
    "\n",
    "# remove not started\n",
    "trial_df = trial_df[trial_df['started']]\n",
    "\n",
    "# remove gen 1\n",
    "trial_df = trial_df[trial_df['generation'] == 0]\n",
    "\n",
    "trial_df['sum_trial_started'] = trial_df.groupby('session_id')['trial_started'].transform('sum')\n",
    "trial_df['sum_trial_finished'] = trial_df.groupby('session_id')['trial_finished'].transform('sum')\n",
    "\n",
    "s_df = trial_df.groupby('session_id').first().reset_index()"
   ]
  },
  {
   "cell_type": "code",
   "execution_count": 303,
   "metadata": {},
   "outputs": [
    {
     "name": "stdout",
     "output_type": "stream",
     "text": [
      "started 31\n"
     ]
    }
   ],
   "source": [
    "# started\n",
    "\n",
    "print('started', trial_df.session_id.nunique())"
   ]
  },
  {
   "cell_type": "code",
   "execution_count": 304,
   "metadata": {},
   "outputs": [
    {
     "name": "stdout",
     "output_type": "stream",
     "text": [
      "completed 21 \n",
      "\n",
      "started trials for completed sum_trial_started\n",
      "19    21\n",
      "Name: count, dtype: int64 \n",
      "\n",
      "finished trials for completed sum_trial_started\n",
      "19    21\n",
      "Name: count, dtype: int64 \n",
      "\n"
     ]
    }
   ],
   "source": [
    "# completed\n",
    "\n",
    "print('completed', trial_df[trial_df['completed']].session_id.nunique(), '\\n')\n",
    "\n",
    "print('started trials for completed', s_df[s_df['completed']].sum_trial_started.value_counts(), '\\n')\n",
    "\n",
    "print('finished trials for completed', s_df[s_df['completed']].sum_trial_started.value_counts(), '\\n')"
   ]
  },
  {
   "cell_type": "code",
   "execution_count": 305,
   "metadata": {},
   "outputs": [
    {
     "name": "stdout",
     "output_type": "stream",
     "text": [
      "not completed and not finished 6 \n",
      "\n",
      "started trials for not completed and not finished sum_trial_started\n",
      "2    5\n",
      "4    1\n",
      "Name: count, dtype: int64 \n",
      "\n",
      "finished trials for not completed and not finished sum_trial_started\n",
      "2    5\n",
      "4    1\n",
      "Name: count, dtype: int64 \n",
      "\n"
     ]
    }
   ],
   "source": [
    "# not completed and not finished\n",
    "\n",
    "print('not completed and not finished', trial_df[~trial_df['completed'] & ~trial_df['finished']].session_id.nunique(), '\\n')\n",
    "\n",
    "print('started trials for not completed and not finished', s_df[~s_df['completed'] & ~s_df['finished']].sum_trial_started.value_counts(), '\\n')\n",
    "\n",
    "print('finished trials for not completed and not finished', s_df[~s_df['completed'] & ~s_df['finished']].sum_trial_started.value_counts(), '\\n')"
   ]
  },
  {
   "cell_type": "code",
   "execution_count": 306,
   "metadata": {},
   "outputs": [
    {
     "name": "stdout",
     "output_type": "stream",
     "text": [
      "not completed but finished 4 \n",
      "\n",
      "started trials for completed but finished sum_trial_started\n",
      "19    4\n",
      "Name: count, dtype: int64 \n",
      "\n",
      "finished trials for completed but finished sum_trial_started\n",
      "19    4\n",
      "Name: count, dtype: int64 \n",
      "\n"
     ]
    }
   ],
   "source": [
    "# not completed but finished\n",
    "\n",
    "print('not completed but finished', trial_df[~trial_df['completed'] & trial_df['finished']].session_id.nunique(), '\\n')\n",
    "\n",
    "print('started trials for completed but finished', s_df[~s_df['completed'] & s_df['finished']].sum_trial_started.value_counts(), '\\n')\n",
    "\n",
    "print('finished trials for completed but finished', s_df[~s_df['completed'] & s_df['finished']].sum_trial_started.value_counts(), '\\n')"
   ]
  },
  {
   "cell_type": "markdown",
   "metadata": {},
   "source": [
    "## What happened to participants not finishing?"
   ]
  },
  {
   "cell_type": "code",
   "execution_count": 317,
   "metadata": {},
   "outputs": [
    {
     "data": {
      "text/plain": [
       "array(['65d32e25dd6859254f5c592f', '65d32e25dd6859254f5c5932',\n",
       "       '65d32e36dd6859254f5c597d', '65d32e36dd6859254f5c597f',\n",
       "       '65d32e37dd6859254f5c5981', '65d32e37dd6859254f5c5986'],\n",
       "      dtype=object)"
      ]
     },
     "execution_count": 317,
     "metadata": {},
     "output_type": "execute_result"
    }
   ],
   "source": [
    "# get not finished session ids\n",
    "\n",
    "not_completed_session_ids = s_df[~s_df['finished']].session_id.unique()\n",
    "not_completed_session_ids"
   ]
  },
  {
   "cell_type": "code",
   "execution_count": 328,
   "metadata": {},
   "outputs": [
    {
     "data": {
      "text/plain": [
       "['5ee8a0884efd881a3e166a65',\n",
       " '5c5219e36021330001f990f1',\n",
       " '6139e3e9d40ebeda4585aa24',\n",
       " '5c9a03e39de0ed0001388d06',\n",
       " '5a995b74873cda0001dca553',\n",
       " '5ee7dcd80e830a0c4b5c5b18']"
      ]
     },
     "execution_count": 328,
     "metadata": {},
     "output_type": "execute_result"
    }
   ],
   "source": [
    "# not finished prolifc ids\n",
    "\n",
    "not_completed_prolific_ids = [s_to_p[s] for s in not_completed_session_ids]\n",
    "not_completed_prolific_ids"
   ]
  },
  {
   "cell_type": "markdown",
   "metadata": {},
   "source": [
    "5ee8a0884efd881a3e166a65: timed out\n",
    "5c5219e36021330001f990f1: returned\n",
    "6139e3e9d40ebeda4585aa24: timed out\n",
    "5c9a03e39de0ed0001388d06: returned\n",
    "5a995b74873cda0001dca553: timed out\n",
    "5ee7dcd80e830a0c4b5c5b18: returned"
   ]
  },
  {
   "cell_type": "markdown",
   "metadata": {},
   "source": [
    "**All of the participants who did not finish the competition either timed out or returned.**"
   ]
  },
  {
   "cell_type": "markdown",
   "metadata": {},
   "source": [
    "## What happened to participants finishing but not completing the experiment?"
   ]
  },
  {
   "cell_type": "code",
   "execution_count": 320,
   "metadata": {},
   "outputs": [],
   "source": [
    "s_df_incoplete = s_df[~s_df['completed'] & s_df['finished']]\n",
    "trial_df_incoplete = trial_df[~trial_df['completed'] & trial_df['finished']]"
   ]
  },
  {
   "cell_type": "code",
   "execution_count": 330,
   "metadata": {},
   "outputs": [
    {
     "data": {
      "text/plain": [
       "session_id                trial_id  trial_type     n_moves\n",
       "65d32e25dd6859254f5c592d  4         individual     11.0       1\n",
       "                          5         individual     11.0       1\n",
       "                          8         individual     11.0       1\n",
       "                          9         individual     11.0       1\n",
       "                          10        individual     11.0       1\n",
       "                          11        individual     11.0       1\n",
       "                          14        demonstration  11.0       1\n",
       "                          15        demonstration  11.0       1\n",
       "                          16        demonstration  11.0       1\n",
       "                          17        demonstration  10.0       1\n",
       "65d32e25dd6859254f5c5935  4         individual     11.0       1\n",
       "                          5         individual     9.0        1\n",
       "                          8         individual     11.0       1\n",
       "                          9         individual     11.0       1\n",
       "                          10        individual     11.0       1\n",
       "                          11        individual     11.0       1\n",
       "                          14        demonstration  11.0       1\n",
       "                          15        demonstration  10.0       1\n",
       "                          16        demonstration  11.0       1\n",
       "                          17        demonstration  11.0       1\n",
       "65d32e37dd6859254f5c5985  4         individual     11.0       1\n",
       "                          5         individual     11.0       1\n",
       "                          8         individual     11.0       1\n",
       "                          9         individual     11.0       1\n",
       "                          10        individual     11.0       1\n",
       "                          11        individual     11.0       1\n",
       "                          14        demonstration  11.0       1\n",
       "                          15        demonstration  6.0        1\n",
       "                          17        demonstration  11.0       1\n",
       "65d33540dd6859254f5c5ddd  4         individual     9.0        1\n",
       "                          5         individual     8.0        1\n",
       "                          8         individual     9.0        1\n",
       "                          9         individual     8.0        1\n",
       "                          10        individual     8.0        1\n",
       "                          11        individual     11.0       1\n",
       "                          14        demonstration  9.0        1\n",
       "                          15        demonstration  10.0       1\n",
       "                          16        demonstration  11.0       1\n",
       "                          17        demonstration  11.0       1\n",
       "Name: count, dtype: int64"
      ]
     },
     "execution_count": 330,
     "metadata": {},
     "output_type": "execute_result"
    }
   ],
   "source": [
    "trial_df_incoplete.groupby(['session_id','trial_id', 'trial_type', ]).n_moves.value_counts()"
   ]
  },
  {
   "cell_type": "code",
   "execution_count": 325,
   "metadata": {},
   "outputs": [],
   "source": [
    "incompleted_session_ids = s_df_incoplete.session_id.unique()"
   ]
  },
  {
   "cell_type": "code",
   "execution_count": 327,
   "metadata": {},
   "outputs": [
    {
     "data": {
      "text/plain": [
       "['5788c16f275be600013590a8',\n",
       " '5995aee73ae1c8000110650d',\n",
       " '6317621f1310b8fa030c428a',\n",
       " '5af1be59f099a50001fde3bf']"
      ]
     },
     "execution_count": 327,
     "metadata": {},
     "output_type": "execute_result"
    }
   ],
   "source": [
    "incomplete_prolific_ids = [s_to_p[s] for s in incompleted_session_ids]\n",
    "incomplete_prolific_ids"
   ]
  },
  {
   "cell_type": "markdown",
   "metadata": {},
   "source": [
    "5788c16f275be600013590a8: approved\n",
    "5995aee73ae1c8000110650d: approved\n",
    "6317621f1310b8fa030c428a: approved\n",
    "5af1be59f099a50001fde3bf: approved"
   ]
  }
 ],
 "metadata": {
  "kernelspec": {
   "display_name": ".venv",
   "language": "python",
   "name": "python3"
  },
  "language_info": {
   "codemirror_mode": {
    "name": "ipython",
    "version": 3
   },
   "file_extension": ".py",
   "mimetype": "text/x-python",
   "name": "python",
   "nbconvert_exporter": "python",
   "pygments_lexer": "ipython3",
   "version": "3.10.12"
  }
 },
 "nbformat": 4,
 "nbformat_minor": 2
}
