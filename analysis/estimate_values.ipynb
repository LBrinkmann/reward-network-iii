{
 "cells": [
  {
   "cell_type": "code",
   "execution_count": 14,
   "metadata": {},
   "outputs": [],
   "source": [
    "import pandas as pd\n",
    "import os"
   ]
  },
  {
   "cell_type": "code",
   "execution_count": 15,
   "metadata": {},
   "outputs": [],
   "source": [
    "experiment_type_A = 'reward-network-iii-8A-v1'\n",
    "experiment_type_B = 'reward-network-iii-8B-v1'"
   ]
  },
  {
   "cell_type": "code",
   "execution_count": 47,
   "metadata": {},
   "outputs": [
    {
     "data": {
      "text/plain": [
       "0.5263157894736842"
      ]
     },
     "execution_count": 47,
     "metadata": {},
     "output_type": "execute_result"
    }
   ],
   "source": [
    "moves_df = pd.read_csv(os.path.join('./data/pilots/',experiment_type_B,'moves.csv'))\n",
    "rel_trial_types = ['try_yourself']\n",
    "\n",
    "moves_df = moves_df[moves_df['trial_type'].isin(rel_trial_types)]\n",
    "\n",
    "opt_df = moves_df[moves_df['trial_type'].isin(rel_trial_types)].groupby(['session_id', 'trial_idx'])['optimal'].sum().reset_index()\n",
    "opt_df['all_optimal'] = opt_df['optimal'] == 10\n",
    "opt_df['all_optimal_discovered'] = opt_df.groupby('session_id')['all_optimal'].transform('cummax')\n",
    "\n",
    "opt_df['not_discovered'] = ~opt_df['all_optimal_discovered']\n",
    "\n",
    "opt_player_df = opt_df.groupby('session_id')['not_discovered'].sum().reset_index()\n",
    "opt_player_df.shape[0] / opt_player_df['not_discovered'].sum()"
   ]
  },
  {
   "cell_type": "code",
   "execution_count": 59,
   "metadata": {},
   "outputs": [
    {
     "data": {
      "text/plain": [
       "0.010526315789473684"
      ]
     },
     "execution_count": 59,
     "metadata": {},
     "output_type": "execute_result"
    }
   ],
   "source": [
    "moves_df = pd.read_csv(os.path.join('./data/pilots/',experiment_type_A,'moves.csv'))\n",
    "rel_trial_types = ['individual', 'demonstration']\n",
    "\n",
    "moves_df = moves_df[moves_df['trial_type'].isin(rel_trial_types)]\n",
    "\n",
    "opt_df = moves_df[moves_df['trial_type'].isin(rel_trial_types)].groupby(['session_id', 'trial_idx'])['optimal'].sum().reset_index()\n",
    "opt_df['all_optimal'] = opt_df['optimal'] == 10\n",
    "\n",
    "(opt_df['all_optimal'].sum() + 2) / (opt_df.shape[0] + 100)"
   ]
  }
 ],
 "metadata": {
  "kernelspec": {
   "display_name": ".venv",
   "language": "python",
   "name": "python3"
  },
  "language_info": {
   "codemirror_mode": {
    "name": "ipython",
    "version": 3
   },
   "file_extension": ".py",
   "mimetype": "text/x-python",
   "name": "python",
   "nbconvert_exporter": "python",
   "pygments_lexer": "ipython3",
   "version": "3.10.12"
  }
 },
 "nbformat": 4,
 "nbformat_minor": 2
}
