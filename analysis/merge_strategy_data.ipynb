{
 "cells": [
  {
   "cell_type": "code",
   "execution_count": 16,
   "metadata": {},
   "outputs": [],
   "source": [
    "import os\n",
    "import pandas as pd\n",
    "\n",
    "ratings_full = pd.read_csv(os.path.join('../data/exp_strategies_coded/ratings_full.csv'))\n",
    "coding_id_map = pd.read_csv(os.path.join('../data/exp_strategies_coded/coding_id_map.csv'))\n"
   ]
  },
  {
   "cell_type": "code",
   "execution_count": 17,
   "metadata": {},
   "outputs": [],
   "source": [
    "coded_strategies = pd.merge(coding_id_map, ratings_full[['coding_id','text', 'strategy_rating']], on='coding_id')\n",
    "coded_strategies = coded_strategies.rename(columns={'strategy_rating': 'loss_stragegy'})\n",
    "\n",
    "coded_strategies.to_csv(os.path.join('../data/exp_strategies_coded/coded_strategies.csv'), index=False)"
   ]
  }
 ],
 "metadata": {
  "kernelspec": {
   "display_name": ".venv",
   "language": "python",
   "name": "python3"
  },
  "language_info": {
   "codemirror_mode": {
    "name": "ipython",
    "version": 3
   },
   "file_extension": ".py",
   "mimetype": "text/x-python",
   "name": "python",
   "nbconvert_exporter": "python",
   "pygments_lexer": "ipython3",
   "version": "3.10.12"
  }
 },
 "nbformat": 4,
 "nbformat_minor": 2
}
