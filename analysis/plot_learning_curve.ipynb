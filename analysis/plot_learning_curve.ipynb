{
 "cells": [
  {
   "cell_type": "markdown",
   "metadata": {},
   "source": [
    "# Plot learning curves"
   ]
  },
  {
   "cell_type": "code",
   "execution_count": null,
   "metadata": {
    "metadata": {}
   },
   "outputs": [],
   "source": [
    "import os\n",
    "import pandas as pd\n",
    "import matplotlib.pyplot as plt\n",
    "import seaborn as sns\n",
    "from matplotlib.lines import Line2D"
   ]
  },
  {
   "cell_type": "code",
   "execution_count": null,
   "metadata": {
    "metadata": {}
   },
   "outputs": [],
   "source": [
    "# move to root directory\n",
    "while os.path.basename(os.getcwd()) != \"reward-network-iii\":\n",
    "    os.chdir(\"..\")"
   ]
  },
  {
   "cell_type": "code",
   "execution_count": null,
   "metadata": {
    "metadata": {}
   },
   "outputs": [],
   "source": [
    "files = [\n",
    "    'data/networks_solutions_models/model/mode_nodes_more_steps_0.csv',\n",
    "    'data/networks_solutions_models/model/mode_nodes_more_steps_1.csv',\n",
    "    'data/networks_solutions_models/model/mode_nodes_more_steps_2.csv',\n",
    "]\n",
    "\n",
    "dfs = []\n",
    "for s, file in enumerate(files):\n",
    "    df = pd.read_csv(file)\n",
    "    df['seed'] = s\n",
    "    dfs.append(df)\n",
    "df = pd.concat(dfs)"
   ]
  },
  {
   "cell_type": "code",
   "execution_count": null,
   "metadata": {
    "metadata": {}
   },
   "outputs": [],
   "source": [
    "df[['average reward', 'average level']] = df[['test_avg_reward_all_envs', 'test_avg_level_all_envs']]\n",
    "\n",
    "df = df[['episode', 'seed', 'average reward', 'average level']]\n",
    "\n",
    "# total training time is 310 seconds\n",
    "df['time'] = df['episode'] * 310 / 5000\n",
    "\n",
    "df = df.dropna()\n",
    "df['seed'] = df['seed'].astype(str)"
   ]
  },
  {
   "cell_type": "code",
   "execution_count": null,
   "metadata": {
    "metadata": {}
   },
   "outputs": [],
   "source": [
    "# load reference solutions from heuristics\n",
    "\n",
    "df_myopic = pd.read_json('data/networks_solutions_models/solution_test__myopic.json')\n",
    "df_random = pd.read_json('data/networks_solutions_models/solution_test__random.json')\n",
    "df_take_loss = pd.read_json('data/networks_solutions_models/solution_test__take_loss.json')\n",
    "\n",
    "\n",
    "ref_max_level = {\n",
    "    'myopic': df_myopic['max_level'].mean(),\n",
    "    'random': df_random['max_level'].mean(),\n",
    "    'take_loss': df_take_loss['max_level'].mean(),\n",
    "}\n",
    "ref_total_reward = {\n",
    "    'myopic': df_myopic['total_reward'].mean(),\n",
    "    'random': df_random['total_reward'].mean(),\n",
    "    'take_loss': df_take_loss['total_reward'].mean(),\n",
    "}"
   ]
  },
  {
   "cell_type": "code",
   "execution_count": null,
   "metadata": {
    "metadata": {}
   },
   "outputs": [],
   "source": [
    "# smooth the data group by seed\n",
    "df = df.groupby('seed').rolling(10, center=True).mean().reset_index()\n",
    "df = df.dropna()"
   ]
  },
  {
   "cell_type": "code",
   "execution_count": null,
   "metadata": {
    "metadata": {}
   },
   "outputs": [],
   "source": [
    "\n",
    "\n",
    "fig, ax1 = plt.subplots(figsize=(8, 4))\n",
    "\n",
    "sns.set_theme(style='white', rc={'font.family': 'serif', 'font.serif': ['Times New Roman', 'FreeSans']})\n",
    "custom_palette = ['#2BAA9D', '#FF8C41', '#7F37B6']\n",
    "\n",
    "lines_info = [\n",
    "    ('myopic', 'myopic'),\n",
    "    ('random', 'random'),\n",
    "    ('take_loss', 'adapted')\n",
    "]\n",
    "\n",
    "# Plot for rewards\n",
    "ax1.set_xlabel('Training Time (sec)', fontsize=12)\n",
    "ax1.set_ylabel('Mean Reward in Test Environments', fontsize=12)\n",
    "ax1.set_ylim(600, 2700)\n",
    "ax1.set_xlim(0, 310)\n",
    "sns.lineplot(data=df, x=\"time\", y=\"average reward\", hue=\"seed\", palette=custom_palette, ax=ax1, linestyle='-')\n",
    "\n",
    "ax1.spines['top'].set_visible(False)\n",
    "ax1.spines['right'].set_visible(False)\n",
    "ax1.tick_params(axis='both', which='major', labelsize=10)\n",
    "pad_distance = 0\n",
    "for label in ax1.get_yticklabels():\n",
    "    label.set_horizontalalignment('right')\n",
    "    label.set_x(label.get_position()[0] - pad_distance)\n",
    "\n",
    "# Second y-axis for levels\n",
    "ax2 = ax1.twinx()\n",
    "ax2.set_ylabel('Mean Level in Test Environments', fontsize=12)\n",
    "ax2.set_ylim(-.3, 3.2)\n",
    "sns.lineplot(data=df, x=\"time\", y=\"average level\", hue=\"seed\", palette=custom_palette, ax=ax2, linestyle=':', legend=None, alpha=0.5)\n",
    "\n",
    "ax2.spines['top'].set_visible(False)\n",
    "ax2.spines['left'].set_visible(False)\n",
    "ax2.tick_params(axis='both', which='major', labelsize=10)\n",
    "for label in ax2.get_yticklabels():\n",
    "    label.set_horizontalalignment('left')\n",
    "    label.set_x(label.get_position()[0] + pad_distance)\n",
    "\n",
    "# Adding specific labels as secondary y-axis ticks for rewards\n",
    "secax1 = ax1.secondary_yaxis('left')\n",
    "secax1.set_yticks([ref_total_reward[line[0]] for line in lines_info])\n",
    "secax1.set_yticklabels([line[1] for line in lines_info])\n",
    "secax1.tick_params(axis='y', direction='in', pad=-45, labelsize=10)\n",
    "\n",
    "# Adding specific labels as secondary y-axis ticks for levels\n",
    "secax2 = ax2.secondary_yaxis('right')\n",
    "secax2.set_yticks([ref_max_level[line[0]] for line in lines_info])\n",
    "secax2.set_yticklabels([line[1] for line in lines_info])\n",
    "secax2.tick_params(axis='y', direction='in', pad=-45, labelsize=10)\n",
    "\n",
    "legend1 = ax1.legend(frameon=True, fontsize=10, title='seed', title_fontsize=10, loc='upper left',\n",
    "                     bbox_to_anchor=(0.12, 1.04), facecolor='white', borderpad=1, labelspacing=0.4)\n",
    "legend1.get_frame().set_alpha(1)\n",
    "legend1.get_frame().set_edgecolor('none')\n",
    "\n",
    "# Create custom legend for line styles\n",
    "custom_lines = [Line2D([0], [0], color='black', lw=1, linestyle='-'),\n",
    "                Line2D([0], [0], color='black', lw=1, linestyle=':')]\n",
    "\n",
    "line_style_legend = ax1.legend(custom_lines, ['Reward', 'Level'], loc='upper left', bbox_to_anchor=(0.25, 0.955), frameon=False, fontsize=10, title_fontsize=10)\n",
    "\n",
    "# Add the first legend back to the plot\n",
    "ax1.add_artist(legend1)\n",
    "\n",
    "# Create folder and save figures\n",
    "folder = os.path.join('analysis', 'plots', 'algorithm')\n",
    "os.makedirs(folder, exist_ok=True)\n",
    "png_filename = os.path.join(folder, 'algorithm.png')\n",
    "pdf_filename = os.path.join(folder, 'algorithm.pdf')\n",
    "\n",
    "plt.tight_layout()\n",
    "plt.savefig(png_filename, dpi=300, bbox_inches='tight', pad_inches=0.1)\n",
    "plt.savefig(pdf_filename, bbox_inches='tight', pad_inches=0.1)\n"
   ]
  }
 ],
 "metadata": {
  "kernelspec": {
   "display_name": ".venv",
   "language": "python",
   "name": "python3"
  },
  "language_info": {
   "codemirror_mode": {
    "name": "ipython",
    "version": 3
   },
   "file_extension": ".py",
   "mimetype": "text/x-python",
   "name": "python",
   "nbconvert_exporter": "python",
   "pygments_lexer": "ipython3",
   "version": "3.10.12"
  }
 },
 "nbformat": 4,
 "nbformat_minor": 2
}
