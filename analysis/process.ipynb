{
 "cells": [
  {
   "cell_type": "markdown",
   "metadata": {},
   "source": [
    "# Download and preprocess the data\n",
    "\n",
    "This notebooks is extracting the data from the database and preprocess it to be used for the descriptive and quantitative analysis."
   ]
  },
  {
   "cell_type": "code",
   "execution_count": 1,
   "metadata": {},
   "outputs": [],
   "source": [
    "import os\n",
    "import pandas as pd\n",
    "from dotenv import load_dotenv"
   ]
  },
  {
   "cell_type": "code",
   "execution_count": null,
   "metadata": {},
   "outputs": [],
   "source": [
    "load_dotenv()\n",
    "\n",
    "BACKEND_URL = 'http://localhost:5050'\n",
    "BACKEND_USER = 'admin'\n",
    "BACKEND_PASSWORD = 'admin'\n",
    "\n",
    "input_folder = '../data/exp_raw'\n",
    "\n",
    "output_folder = '../data/exp_processed'\n",
    "\n",
    "# make sure the output folder exists\n",
    "if not os.path.exists(output_folder):\n",
    "    os.makedirs(output_folder)"
   ]
  },
  {
   "cell_type": "code",
   "execution_count": 3,
   "metadata": {},
   "outputs": [],
   "source": [
    "from utils.process import process_moves\n",
    "\n",
    "\n",
    "# # load from file\n",
    "import json\n",
    "file_name = f'{input_folder}/sessions_completed.json'\n",
    "with open(file_name, 'r') as f:\n",
    "    sessions_json = json.load(f)\n",
    "\n",
    "\n",
    "written_strategies = []\n",
    "p_moves = []\n",
    "player = []\n",
    "for session in sessions_json:\n",
    "    if session['completed'] is False:\n",
    "        continue\n",
    "    advisor = None\n",
    "    for trial in session['trials']:\n",
    "        if trial['solution'] is not None:\n",
    "            moves = process_moves(trial['network'], trial['solution']['moves'], trial['solution']['correctRepeats'])\n",
    "            trials_info = {\n",
    "                'session_id': session['_id'],\n",
    "                'trial_id': trial['id'],\n",
    "                'trial_type': trial['trial_type'],\n",
    "                'network_id': trial['network']['network_id'],\n",
    "                'solution_total_score': trial['solution']['score'],\n",
    "            }\n",
    "            moves = [{**m, **trials_info} for m in moves]\n",
    "            p_moves.extend(moves)\n",
    "        if trial['written_strategy'] is not None and session['ai_player'] is False:\n",
    "            written_strategies.append({\n",
    "                'session_id': session['_id'],\n",
    "                'trial_id': trial['id'],\n",
    "                'text': trial['written_strategy']['strategy'],\n",
    "            })\n",
    "        if trial['advisor'] is not None:\n",
    "            if advisor is None:\n",
    "                advisor = trial['advisor']['advisor_id']\n",
    "            else:\n",
    "                assert advisor == trial['advisor']['advisor_id'], f'advisor changed during session {advisor} {trial[\"advisor\"][\"advisor_id\"]}'\n",
    "    ai_str = 'AI' if session['ai_player'] else 'Human'\n",
    "    player.append({\n",
    "        'session_id': session['_id'],\n",
    "        'session_name': f\"Rep {session['experiment_num']} - Gen {session['generation']} - {session['condition']} - {session['session_num_in_generation']} - {ai_str}\",\n",
    "        'replication_idx': session['experiment_num'],\n",
    "        'condition': session['condition'],\n",
    "        'generation': session['generation'],\n",
    "        'within_generation_idx': session['session_num_in_generation'],\n",
    "        'started_at': session['started_at'],\n",
    "        'time_spend': session['time_spent'],\n",
    "        'expired': session['expired'],\n",
    "        'replaced': session['replaced'],\n",
    "        'ai_player': session['ai_player'],\n",
    "        'simulated_subject': session['simulated_subject'],\n",
    "        'advisor': advisor,\n",
    "        'player_score': session['average_score'],\n",
    "    })\n"
   ]
  },
  {
   "cell_type": "code",
   "execution_count": 4,
   "metadata": {},
   "outputs": [],
   "source": [
    "moves_df = pd.DataFrame(p_moves)\n",
    "strategy_df = pd.DataFrame(written_strategies)\n",
    "player_df = pd.DataFrame(player)\n",
    "wr_trial_idx = {s: i for i, s in enumerate(strategy_df['trial_id'].sort_values().unique())}\n",
    "\n",
    "moves_df = player_df.merge(moves_df, on='session_id', how='left')\n",
    "\n",
    "strategy_df['written_strategy_idx'] = strategy_df['trial_id'].apply(lambda x: wr_trial_idx[x])\n",
    "\n",
    "strategy_df = strategy_df.sort_values(by=['session_id', 'written_strategy_idx'])\n",
    "\n",
    "# create folder\n",
    "os.makedirs(os.path.join(output_folder), exist_ok=True)\n",
    "\n",
    "s_columns = [\n",
    "    'session_id', 'trial_id', 'written_strategy_idx', 'text']\n",
    "strategy_df[s_columns].to_csv(os.path.join(output_folder,'strategy.csv'), index=False)\n",
    "moves_df.to_csv(os.path.join(output_folder,'moves.csv'), index=False)\n",
    "player_df.to_csv(os.path.join(output_folder,'player.csv'), index=False)"
   ]
  }
 ],
 "metadata": {
  "kernelspec": {
   "display_name": ".venv",
   "language": "python",
   "name": "python3"
  },
  "language_info": {
   "codemirror_mode": {
    "name": "ipython",
    "version": 3
   },
   "file_extension": ".py",
   "mimetype": "text/x-python",
   "name": "python",
   "nbconvert_exporter": "python",
   "pygments_lexer": "ipython3",
   "version": "3.10.12"
  }
 },
 "nbformat": 4,
 "nbformat_minor": 2
}
