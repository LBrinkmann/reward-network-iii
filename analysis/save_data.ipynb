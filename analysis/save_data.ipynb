{
 "cells": [
  {
   "cell_type": "code",
   "execution_count": null,
   "metadata": {},
   "outputs": [],
   "source": [
    "import os\n",
    "import json\n",
    "import requests\n",
    "from dotenv import load_dotenv"
   ]
  },
  {
   "cell_type": "code",
   "execution_count": null,
   "metadata": {},
   "outputs": [],
   "source": [
    "load_dotenv()\n",
    "\n",
    "BACKEND_USER = os.environ['BACKEND_USER']\n",
    "BACKEND_PASSWORD = os.environ['BACKEND_PASSWORD']\n",
    "BACKEND_URL = os.environ['BACKEND_URL']\n",
    "\n",
    "experiment_name = 'experiment'\n",
    "\n",
    "output_folder = '../data/exp_raw'"
   ]
  },
  {
   "cell_type": "code",
   "execution_count": null,
   "metadata": {},
   "outputs": [],
   "source": [
    "url = f'{BACKEND_URL}/results'\n",
    "headers = {'Accept': 'application/json'}\n",
    "auth = (BACKEND_USER, BACKEND_PASSWORD)\n",
    "\n",
    "completed = True\n",
    "\n",
    "#---sessions----\n",
    "sessions = requests.get(f'{url}/sessions?experiment_type={experiment_name}&completed={completed}', headers=headers, auth=auth)\n",
    "\n",
    "sessions_json = sessions.json()\n",
    "\n",
    "# save sessions to file\n",
    "sessions_file = f'{output_folder}/sessions_completed.json'\n",
    "with open(sessions_file, 'w') as file:\n",
    "    file.write(json.dumps(sessions_json, indent=4))\n",
    "\n",
    "\n",
    "completed = False\n",
    "\n",
    "#---sessions----\n",
    "sessions = requests.get(f'{url}/sessions?experiment_type={experiment_name}&completed={completed}', headers=headers, auth=auth)\n",
    "\n",
    "\n",
    "sessions_json = sessions.json()\n",
    "\n",
    "# save sessions to file\n",
    "sessions_file = f'{output_folder}/sessions_incomplete.json'\n",
    "with open(sessions_file, 'w') as file:\n",
    "    file.write(json.dumps(sessions_json, indent=4))\n",
    "\n",
    "\n",
    "# #---subjects----\n",
    "subjects = requests.get(f'{url}/subjects', headers=headers, auth=auth)\n",
    "\n",
    "subjects_json = subjects.json()\n",
    "# save subjects to file\n",
    "subjects_file = f'{output_folder}/subjects.json'\n",
    "with open(subjects_file, 'w') as file:\n",
    "    file.write(json.dumps(subjects_json, indent=4))\n"
   ]
  }
 ],
 "metadata": {
  "kernelspec": {
   "display_name": ".venv",
   "language": "python",
   "name": "python3"
  },
  "language_info": {
   "codemirror_mode": {
    "name": "ipython",
    "version": 3
   },
   "file_extension": ".py",
   "mimetype": "text/x-python",
   "name": "python",
   "nbconvert_exporter": "python",
   "pygments_lexer": "ipython3",
   "version": "3.10.12"
  }
 },
 "nbformat": 4,
 "nbformat_minor": 2
}
